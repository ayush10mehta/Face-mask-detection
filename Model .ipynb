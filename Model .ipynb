{
 "cells": [
  {
   "cell_type": "code",
   "execution_count": 1,
   "metadata": {},
   "outputs": [],
   "source": [
    "import numpy as np\n",
    "import keras\n",
    "from keras.preprocessing.image import ImageDataGenerator\n",
    "from keras.optimizers import Adam\n",
    "from keras.callbacks import ModelCheckpoint\n",
    "import matplotlib.pyplot as plt\n",
    "import tensorflow"
   ]
  },
  {
   "cell_type": "markdown",
   "metadata": {},
   "source": [
    "## Giving path of the dataset"
   ]
  },
  {
   "cell_type": "code",
   "execution_count": 3,
   "metadata": {},
   "outputs": [],
   "source": [
    "train_data_path=\"/Users/ayushmehta/Downloads/Projects My/Mask_or_not/drive-download-20210507T111403Z-001/self/dataset/train\"\n",
    "validation_data_path=\"/Users/ayushmehta/Downloads/Projects My/Mask_or_not/drive-download-20210507T111403Z-001/self/dataset/valid\""
   ]
  },
  {
   "cell_type": "markdown",
   "metadata": {},
   "source": [
    "## Data augmentation"
   ]
  },
  {
   "cell_type": "code",
   "execution_count": 4,
   "metadata": {},
   "outputs": [],
   "source": [
    "training_datagen=ImageDataGenerator(rescale=1./255,\n",
    "                                   rotation_range=40,\n",
    "                                   width_shift_range=0.2,\n",
    "                                   height_shift_range=0.2,\n",
    "                                   shear_range=0.2,\n",
    "                                   zoom_range=0.2,\n",
    "                                   horizontal_flip=True,\n",
    "                                   fill_mode='nearest')"
   ]
  },
  {
   "cell_type": "code",
   "execution_count": 5,
   "metadata": {},
   "outputs": [
    {
     "name": "stdout",
     "output_type": "stream",
     "text": [
      "Found 3649 images belonging to 2 classes.\n"
     ]
    }
   ],
   "source": [
    "training_data= training_datagen.flow_from_directory(train_data_path,\n",
    "                                                   target_size=(200,200),\n",
    "                                                   batch_size=128,\n",
    "                                                   class_mode='binary')"
   ]
  },
  {
   "cell_type": "code",
   "execution_count": 6,
   "metadata": {},
   "outputs": [
    {
     "data": {
      "text/plain": [
       "{'with_mask': 0, 'without_mask': 1}"
      ]
     },
     "execution_count": 6,
     "metadata": {},
     "output_type": "execute_result"
    }
   ],
   "source": [
    " training_data.class_indices"
   ]
  },
  {
   "cell_type": "code",
   "execution_count": 8,
   "metadata": {},
   "outputs": [
    {
     "name": "stdout",
     "output_type": "stream",
     "text": [
      "Found 806 images belonging to 2 classes.\n"
     ]
    }
   ],
   "source": [
    "valid_datagen=ImageDataGenerator(rescale=1./255)\n",
    "\n",
    "valid_data=valid_datagen.flow_from_directory(validation_data_path,\n",
    "                                                   target_size=(200,200),\n",
    "                                                   batch_size=128,\n",
    "                                                   class_mode='binary')"
   ]
  },
  {
   "cell_type": "markdown",
   "metadata": {},
   "source": [
    "## Building a model"
   ]
  },
  {
   "cell_type": "code",
   "execution_count": 16,
   "metadata": {},
   "outputs": [],
   "source": [
    "from tensorflow.keras.models import Sequential\n",
    "from tensorflow.keras.layers import Dense,Dropout,Activation,Flatten,Conv2D,MaxPooling2D\n",
    "from tensorflow.keras.layers import BatchNormalization\n",
    "from keras.optimizers import Adam\n",
    "\n",
    "#Creating a neural network\n",
    "model= Sequential()\n",
    "\n",
    "#Pass1\n",
    "model.add(Conv2D(32,(5,5),input_shape=[200,200,3]))\n",
    "model.add(MaxPooling2D(pool_size=(4,4)))\n",
    "\n",
    "#Pass2\n",
    "model.add(Conv2D(64,(3,3)))\n",
    "model.add(MaxPooling2D(pool_size=(3,3)))\n",
    "\n",
    "#Pass3\n",
    "model.add(Conv2D(128,(3,3)))\n",
    "model.add(MaxPooling2D(pool_size=(2,2)))\n",
    "\n",
    "#Pass4\n",
    "model.add(Conv2D(256,(2,2)))\n",
    "model.add(MaxPooling2D(pool_size=(2,2)))\n",
    "model.add(Dropout(0.5))\n",
    "          \n",
    "#Fully connected layer-1\n",
    "model.add(Flatten())   \n",
    "model.add(Dense(128))   #output layer # fully connect ANN Network\n",
    "model.add(Activation('relu'))\n",
    "model.add(Dropout(0.1))\n",
    "          \n",
    "model.add(Dense(256))  \n",
    "model.add(Activation('relu'))\n",
    "model.add(Dropout(0.25))\n",
    "          \n",
    "model.add(Dense(2))   #output layer\n",
    "model.add(Activation('softmax'))  \n"
   ]
  },
  {
   "cell_type": "markdown",
   "metadata": {},
   "source": [
    "## Compiling model"
   ]
  },
  {
   "cell_type": "code",
   "execution_count": 18,
   "metadata": {},
   "outputs": [],
   "source": [
    "model.compile(loss=\"sparse_categorical_crossentropy\", optimizer=Adam(lr=0.001),metrics=[\"accuracy\"])"
   ]
  },
  {
   "cell_type": "code",
   "execution_count": 19,
   "metadata": {},
   "outputs": [
    {
     "name": "stdout",
     "output_type": "stream",
     "text": [
      "Epoch 1/50\n",
      " 7/29 [======>.......................] - ETA: 48s - loss: 0.6882 - accuracy: 0.5391"
     ]
    },
    {
     "name": "stderr",
     "output_type": "stream",
     "text": [
      "/Users/ayushmehta/opt/anaconda3/lib/python3.8/site-packages/PIL/Image.py:951: UserWarning: Palette images with Transparency expressed in bytes should be converted to RGBA images\n",
      "  warnings.warn(\n"
     ]
    },
    {
     "name": "stdout",
     "output_type": "stream",
     "text": [
      "29/29 [==============================] - 72s 2s/step - loss: 0.6119 - accuracy: 0.6348 - val_loss: 0.2550 - val_accuracy: 0.9032\n",
      "Epoch 2/50\n",
      "29/29 [==============================] - 69s 2s/step - loss: 0.3235 - accuracy: 0.8698 - val_loss: 0.2565 - val_accuracy: 0.9107\n",
      "Epoch 3/50\n",
      "29/29 [==============================] - 66s 2s/step - loss: 0.3088 - accuracy: 0.8854 - val_loss: 0.1637 - val_accuracy: 0.9417\n",
      "Epoch 4/50\n",
      "29/29 [==============================] - 137s 5s/step - loss: 0.2916 - accuracy: 0.8885 - val_loss: 0.1891 - val_accuracy: 0.9318\n",
      "Epoch 5/50\n",
      "29/29 [==============================] - 68s 2s/step - loss: 0.2828 - accuracy: 0.9028 - val_loss: 0.1539 - val_accuracy: 0.9504\n",
      "Epoch 6/50\n",
      "29/29 [==============================] - 66s 2s/step - loss: 0.2657 - accuracy: 0.9021 - val_loss: 0.1524 - val_accuracy: 0.9454\n",
      "Epoch 7/50\n",
      "29/29 [==============================] - 66s 2s/step - loss: 0.2421 - accuracy: 0.9153 - val_loss: 0.1666 - val_accuracy: 0.9392\n",
      "Epoch 8/50\n",
      "29/29 [==============================] - 66s 2s/step - loss: 0.2346 - accuracy: 0.9159 - val_loss: 0.1454 - val_accuracy: 0.9504\n",
      "Epoch 9/50\n",
      "29/29 [==============================] - 67s 2s/step - loss: 0.2118 - accuracy: 0.9219 - val_loss: 0.1727 - val_accuracy: 0.9392\n",
      "Epoch 10/50\n",
      "29/29 [==============================] - 75s 3s/step - loss: 0.2603 - accuracy: 0.9076 - val_loss: 0.1296 - val_accuracy: 0.9516\n",
      "Epoch 11/50\n",
      "29/29 [==============================] - 94s 3s/step - loss: 0.2402 - accuracy: 0.9148 - val_loss: 0.1201 - val_accuracy: 0.9578\n",
      "Epoch 12/50\n",
      "29/29 [==============================] - 91s 3s/step - loss: 0.2398 - accuracy: 0.9196 - val_loss: 0.1178 - val_accuracy: 0.9603\n",
      "Epoch 13/50\n",
      "29/29 [==============================] - 81s 3s/step - loss: 0.2076 - accuracy: 0.9199 - val_loss: 0.1066 - val_accuracy: 0.9640\n",
      "Epoch 14/50\n",
      "29/29 [==============================] - 91s 3s/step - loss: 0.1953 - accuracy: 0.9281 - val_loss: 0.0895 - val_accuracy: 0.9615\n",
      "Epoch 15/50\n",
      "29/29 [==============================] - 93s 3s/step - loss: 0.2199 - accuracy: 0.9169 - val_loss: 0.1177 - val_accuracy: 0.9491\n",
      "Epoch 16/50\n",
      "29/29 [==============================] - 75s 3s/step - loss: 0.2027 - accuracy: 0.9236 - val_loss: 0.0983 - val_accuracy: 0.9615\n",
      "Epoch 17/50\n",
      "29/29 [==============================] - 69s 2s/step - loss: 0.1971 - accuracy: 0.9327 - val_loss: 0.1145 - val_accuracy: 0.9541\n",
      "Epoch 18/50\n",
      "29/29 [==============================] - 75s 3s/step - loss: 0.2239 - accuracy: 0.9192 - val_loss: 0.2469 - val_accuracy: 0.9045\n",
      "Epoch 19/50\n",
      "29/29 [==============================] - 82s 3s/step - loss: 0.2396 - accuracy: 0.9115 - val_loss: 0.0960 - val_accuracy: 0.9653\n",
      "Epoch 20/50\n",
      "29/29 [==============================] - 72s 2s/step - loss: 0.1936 - accuracy: 0.9315 - val_loss: 0.0863 - val_accuracy: 0.9702\n",
      "Epoch 21/50\n",
      "29/29 [==============================] - 96s 3s/step - loss: 0.1759 - accuracy: 0.9416 - val_loss: 0.0905 - val_accuracy: 0.9603\n",
      "Epoch 22/50\n",
      "29/29 [==============================] - 105s 4s/step - loss: 0.1635 - accuracy: 0.9361 - val_loss: 0.0750 - val_accuracy: 0.9739\n",
      "Epoch 23/50\n",
      "29/29 [==============================] - 82s 3s/step - loss: 0.1953 - accuracy: 0.9333 - val_loss: 0.0805 - val_accuracy: 0.9677\n",
      "Epoch 24/50\n",
      "29/29 [==============================] - 83s 3s/step - loss: 0.1649 - accuracy: 0.9404 - val_loss: 0.0814 - val_accuracy: 0.9752\n",
      "Epoch 25/50\n",
      "29/29 [==============================] - 136s 5s/step - loss: 0.1709 - accuracy: 0.9323 - val_loss: 0.0778 - val_accuracy: 0.9690\n",
      "Epoch 26/50\n",
      "29/29 [==============================] - 211s 7s/step - loss: 0.1646 - accuracy: 0.9382 - val_loss: 0.0880 - val_accuracy: 0.9702\n",
      "Epoch 27/50\n",
      "29/29 [==============================] - 209s 7s/step - loss: 0.1863 - accuracy: 0.9335 - val_loss: 0.0868 - val_accuracy: 0.9702\n",
      "Epoch 28/50\n",
      "29/29 [==============================] - 718s 25s/step - loss: 0.1885 - accuracy: 0.9258 - val_loss: 0.0734 - val_accuracy: 0.9739\n",
      "Epoch 29/50\n",
      "29/29 [==============================] - 68s 2s/step - loss: 0.1486 - accuracy: 0.9468 - val_loss: 0.0744 - val_accuracy: 0.9777\n",
      "Epoch 30/50\n",
      "29/29 [==============================] - 69s 2s/step - loss: 0.1520 - accuracy: 0.9445 - val_loss: 0.0698 - val_accuracy: 0.9789\n",
      "Epoch 31/50\n",
      "29/29 [==============================] - 93s 3s/step - loss: 0.1331 - accuracy: 0.9533 - val_loss: 0.0616 - val_accuracy: 0.9727\n",
      "Epoch 32/50\n",
      "29/29 [==============================] - 139s 5s/step - loss: 0.1632 - accuracy: 0.9358 - val_loss: 0.0668 - val_accuracy: 0.9727\n",
      "Epoch 33/50\n",
      "29/29 [==============================] - 153s 5s/step - loss: 0.1656 - accuracy: 0.9371 - val_loss: 0.1084 - val_accuracy: 0.9578\n",
      "Epoch 34/50\n",
      "29/29 [==============================] - 136s 5s/step - loss: 0.1488 - accuracy: 0.9407 - val_loss: 0.0801 - val_accuracy: 0.9764\n",
      "Epoch 35/50\n",
      "29/29 [==============================] - 139s 5s/step - loss: 0.1512 - accuracy: 0.9409 - val_loss: 0.0772 - val_accuracy: 0.9677\n",
      "Epoch 36/50\n",
      "29/29 [==============================] - 137s 5s/step - loss: 0.1307 - accuracy: 0.9549 - val_loss: 0.0682 - val_accuracy: 0.9715\n",
      "Epoch 37/50\n",
      "29/29 [==============================] - 145s 5s/step - loss: 0.1340 - accuracy: 0.9517 - val_loss: 0.0627 - val_accuracy: 0.9839\n",
      "Epoch 38/50\n",
      "29/29 [==============================] - 129s 4s/step - loss: 0.1180 - accuracy: 0.9546 - val_loss: 0.0723 - val_accuracy: 0.9727\n",
      "Epoch 39/50\n",
      "29/29 [==============================] - 129s 4s/step - loss: 0.1395 - accuracy: 0.9452 - val_loss: 0.0796 - val_accuracy: 0.9690\n",
      "Epoch 40/50\n",
      "29/29 [==============================] - 114s 4s/step - loss: 0.1372 - accuracy: 0.9582 - val_loss: 0.0688 - val_accuracy: 0.9764\n",
      "Epoch 41/50\n",
      "29/29 [==============================] - 87s 3s/step - loss: 0.1626 - accuracy: 0.9400 - val_loss: 0.0676 - val_accuracy: 0.9727\n",
      "Epoch 42/50\n",
      "29/29 [==============================] - 73s 2s/step - loss: 0.1548 - accuracy: 0.9466 - val_loss: 0.0849 - val_accuracy: 0.9702\n",
      "Epoch 43/50\n",
      "29/29 [==============================] - 77s 3s/step - loss: 0.1349 - accuracy: 0.9567 - val_loss: 0.0634 - val_accuracy: 0.9801\n",
      "Epoch 44/50\n",
      "29/29 [==============================] - 90s 3s/step - loss: 0.1252 - accuracy: 0.9574 - val_loss: 0.0647 - val_accuracy: 0.9777\n",
      "Epoch 45/50\n",
      "29/29 [==============================] - 81s 3s/step - loss: 0.1251 - accuracy: 0.9516 - val_loss: 0.0587 - val_accuracy: 0.9839\n",
      "Epoch 46/50\n",
      "29/29 [==============================] - 91s 3s/step - loss: 0.1258 - accuracy: 0.9511 - val_loss: 0.0607 - val_accuracy: 0.9826\n",
      "Epoch 47/50\n",
      "29/29 [==============================] - 71s 2s/step - loss: 0.1172 - accuracy: 0.9550 - val_loss: 0.0730 - val_accuracy: 0.9777\n",
      "Epoch 48/50\n",
      "29/29 [==============================] - 71s 2s/step - loss: 0.1320 - accuracy: 0.9529 - val_loss: 0.0681 - val_accuracy: 0.9764\n",
      "Epoch 49/50\n",
      "29/29 [==============================] - 72s 2s/step - loss: 0.1325 - accuracy: 0.9522 - val_loss: 0.0888 - val_accuracy: 0.9677\n",
      "Epoch 50/50\n",
      "29/29 [==============================] - 72s 2s/step - loss: 0.1336 - accuracy: 0.9476 - val_loss: 0.0573 - val_accuracy: 0.9789\n"
     ]
    }
   ],
   "source": [
    "history= model.fit(training_data,epochs=50,verbose=1,validation_data=valid_data)"
   ]
  },
  {
   "cell_type": "code",
   "execution_count": 25,
   "metadata": {},
   "outputs": [
    {
     "name": "stdout",
     "output_type": "stream",
     "text": [
      "Model: \"sequential\"\n",
      "_________________________________________________________________\n",
      "Layer (type)                 Output Shape              Param #   \n",
      "=================================================================\n",
      "conv2d (Conv2D)              (None, 196, 196, 32)      2432      \n",
      "_________________________________________________________________\n",
      "max_pooling2d (MaxPooling2D) (None, 49, 49, 32)        0         \n",
      "_________________________________________________________________\n",
      "conv2d_1 (Conv2D)            (None, 47, 47, 64)        18496     \n",
      "_________________________________________________________________\n",
      "max_pooling2d_1 (MaxPooling2 (None, 15, 15, 64)        0         \n",
      "_________________________________________________________________\n",
      "conv2d_2 (Conv2D)            (None, 13, 13, 128)       73856     \n",
      "_________________________________________________________________\n",
      "max_pooling2d_2 (MaxPooling2 (None, 6, 6, 128)         0         \n",
      "_________________________________________________________________\n",
      "conv2d_3 (Conv2D)            (None, 5, 5, 256)         131328    \n",
      "_________________________________________________________________\n",
      "max_pooling2d_3 (MaxPooling2 (None, 2, 2, 256)         0         \n",
      "_________________________________________________________________\n",
      "dropout (Dropout)            (None, 2, 2, 256)         0         \n",
      "_________________________________________________________________\n",
      "flatten (Flatten)            (None, 1024)              0         \n",
      "_________________________________________________________________\n",
      "dense (Dense)                (None, 128)               131200    \n",
      "_________________________________________________________________\n",
      "activation (Activation)      (None, 128)               0         \n",
      "_________________________________________________________________\n",
      "dropout_1 (Dropout)          (None, 128)               0         \n",
      "_________________________________________________________________\n",
      "dense_1 (Dense)              (None, 256)               33024     \n",
      "_________________________________________________________________\n",
      "activation_1 (Activation)    (None, 256)               0         \n",
      "_________________________________________________________________\n",
      "dropout_2 (Dropout)          (None, 256)               0         \n",
      "_________________________________________________________________\n",
      "dense_2 (Dense)              (None, 2)                 514       \n",
      "_________________________________________________________________\n",
      "activation_2 (Activation)    (None, 2)                 0         \n",
      "=================================================================\n",
      "Total params: 390,850\n",
      "Trainable params: 390,850\n",
      "Non-trainable params: 0\n",
      "_________________________________________________________________\n"
     ]
    }
   ],
   "source": [
    "model.summary()"
   ]
  },
  {
   "cell_type": "code",
   "execution_count": 20,
   "metadata": {},
   "outputs": [],
   "source": [
    "model.save(\"/Users/ayushmehta/Downloads/Projects My/Mask_or_not/drive-download-20210507T111403Z-001/self/final_model.h5\")"
   ]
  },
  {
   "cell_type": "code",
   "execution_count": 33,
   "metadata": {},
   "outputs": [
    {
     "data": {
      "image/png": "[encoded data removed]",
      "text/plain": [
       "<Figure size 432x288 with 1 Axes>"
      ]
     },
     "metadata": {
      "needs_background": "light"
     },
     "output_type": "display_data"
    },
    {
     "data": {
      "image/png": "[encoded data removed]",
      "text/plain": [
       "<Figure size 432x288 with 1 Axes>"
      ]
     },
     "metadata": {
      "needs_background": "light"
     },
     "output_type": "display_data"
    }
   ],
   "source": [
    "# plot the loss\n",
    "\n",
    "plt.title('Plot of Loss')\n",
    "plt.plot(model.history.history['loss'], label='train loss')\n",
    "plt.plot(model.history.history['val_loss'], label='val loss')\n",
    "plt.legend()\n",
    "plt.show()\n",
    "\n",
    " \n",
    "# plot the accuracy\n",
    "plt.title('Plot of accuracy')\n",
    "plt.plot(model.history.history['accuracy'], label='train acc')\n",
    "plt.plot(model.history.history['val_accuracy'], label='val acc')\n",
    "plt.legend()\n",
    "plt.show()\n"
   ]
  },
  {
   "cell_type": "code",
   "execution_count": null,
   "metadata": {},
   "outputs": [],
   "source": []
  }
 ],
 "metadata": {
  "kernelspec": {
   "display_name": "Python 3",
   "language": "python",
   "name": "python3"
  },
  "language_info": {
   "codemirror_mode": {
    "name": "ipython",
    "version": 3
   },
   "file_extension": ".py",
   "mimetype": "text/x-python",
   "name": "python",
   "nbconvert_exporter": "python",
   "pygments_lexer": "ipython3",
   "version": "3.8.5"
  }
 },
 "nbformat": 4,
 "nbformat_minor": 4
}
